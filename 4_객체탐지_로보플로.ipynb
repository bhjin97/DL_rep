{
 "cells": [
  {
   "cell_type": "code",
   "execution_count": 1,
   "id": "9d85dbe7",
   "metadata": {},
   "outputs": [
    {
     "name": "stdout",
     "output_type": "stream",
     "text": [
      "torch: 2.6.0+cu124 cuda: 12.4 is_available: True\n"
     ]
    }
   ],
   "source": [
    "import torch\n",
    "print(\"torch:\", torch.__version__, \"cuda:\", torch.version.cuda, \"is_available:\", torch.cuda.is_available())"
   ]
  },
  {
   "cell_type": "code",
   "execution_count": 2,
   "id": "989381c8",
   "metadata": {},
   "outputs": [],
   "source": [
    "import os \n",
    "from dotenv import load_dotenv\n",
    "loaded = load_dotenv()\n",
    "api_key = os.getenv('ROBOFLOW_API_KEY')"
   ]
  },
  {
   "cell_type": "code",
   "execution_count": 3,
   "id": "ee9c7d67",
   "metadata": {},
   "outputs": [
    {
     "name": "stdout",
     "output_type": "stream",
     "text": [
      "{'inference_id': 'afa08264-155d-4f46-99f5-97505d270def', 'time': 0.03671838799982652, 'image': {'width': 512, 'height': 341}, 'predictions': [{'x': 404.0, 'y': 233.5, 'width': 132.0, 'height': 151.0, 'confidence': 0.9074662923812866, 'class': 'Rock', 'class_id': 1, 'detection_id': 'dbdcec69-c9d5-44cb-8010-4a47115496d1'}, {'x': 112.5, 'y': 223.0, 'width': 175.0, 'height': 210.0, 'confidence': 0.8111773729324341, 'class': 'Paper', 'class_id': 0, 'detection_id': '51a43895-1a01-433d-b9b0-558ac3cf06ef'}]}\n"
     ]
    }
   ],
   "source": [
    "from inference_sdk import InferenceHTTPClient\n",
    "CLIENT = InferenceHTTPClient(\n",
    "    api_url=\"https://detect.roboflow.com\",\n",
    "    api_key=api_key\n",
    ")\n",
    "\n",
    "# 추론 실행\n",
    "result = CLIENT.infer(\"rsp.jpg\", model_id=\"rock-paper-scissors-sxsw/14\")\n",
    "print(result)\n"
   ]
  },
  {
   "cell_type": "code",
   "execution_count": 4,
   "id": "87f21c35",
   "metadata": {},
   "outputs": [
    {
     "name": "stdout",
     "output_type": "stream",
     "text": [
      "404.0 233.5 132.0 151.0 0.9074662923812866 Rock\n",
      "112.5 223.0 175.0 210.0 0.8111773729324341 Paper\n"
     ]
    }
   ],
   "source": [
    "for pred in result['predictions']:\n",
    "    x = pred['x']\n",
    "    y = pred['y']\n",
    "    width = pred['width']\n",
    "    height = pred['height']\n",
    "    conf = pred['confidence']\n",
    "    obj_class = pred['class']\n",
    "    print(x,y,width,height,conf,obj_class)"
   ]
  },
  {
   "cell_type": "code",
   "execution_count": 5,
   "id": "2ffacfb6",
   "metadata": {},
   "outputs": [
    {
     "name": "stdout",
     "output_type": "stream",
     "text": [
      "404.0 233.5 132.0 151.0 0.9074662923812866 Rock\n",
      "112.5 223.0 175.0 210.0 0.8111773729324341 Paper\n"
     ]
    }
   ],
   "source": [
    "import cv2\n",
    "img = cv2.imread('rsp.jpg')\n",
    "\n",
    "for pred in result['predictions']:\n",
    "    x = pred['x']\n",
    "    y = pred['y']\n",
    "    width = pred['width']\n",
    "    height = pred['height']\n",
    "    conf = pred['confidence']\n",
    "    obj_class = pred['class']\n",
    "    \n",
    "    x1, y1 = int(x-width/2), int(y-height/2)\n",
    "    x2, y2 = int(x+width/2), int(y+height/2)\n",
    "    cv2.rectangle(img, (x1,y1), (x2, y2), (0,0,255), 2)\n",
    "    cv2.putText(img, f'{obj_class} {conf:.4f}', (x1,y1), cv2.FONT_HERSHEY_PLAIN, 2, (0,0,255))\n",
    "    \n",
    "    print(x, y, width, height, conf, obj_class)\n",
    "\n",
    "# 결과 이미지 확인\n",
    "cv2.imshow(\"Detections\", img)\n",
    "cv2.waitKey(0)\n",
    "cv2.destroyAllWindows()\n"
   ]
  },
  {
   "cell_type": "code",
   "execution_count": 8,
   "id": "c31ea95f",
   "metadata": {},
   "outputs": [
    {
     "name": "stdout",
     "output_type": "stream",
     "text": [
      "{'inference_id': 'c36a6cc0-f1a7-46fa-976b-530c8d5a2300', 'time': 0.01719195400028184, 'image': {'width': 416, 'height': 416}, 'predictions': [{'x': 239.0, 'y': 363.5, 'width': 60.0, 'height': 53.0, 'confidence': 0.9192056655883789, 'class': '5', 'class_id': 5, 'detection_id': '7ec368e1-4cc4-46e6-b933-18dfda650477'}, {'x': 140.5, 'y': 208.0, 'width': 21.0, 'height': 32.0, 'confidence': 0.9185886383056641, 'class': '8', 'class_id': 8, 'detection_id': '31dc0734-e3c3-4177-aaa2-dd32244cbb94'}, {'x': 193.0, 'y': 220.0, 'width': 12.0, 'height': 22.0, 'confidence': 0.8616394996643066, 'class': '8', 'class_id': 8, 'detection_id': 'f9e9ab9b-3ef9-4ffc-a539-1e937c3ffce8'}, {'x': 239.0, 'y': 363.5, 'width': 60.0, 'height': 53.0, 'confidence': 0.5959097743034363, 'class': '4', 'class_id': 4, 'detection_id': 'b3cc1249-d39f-447f-9938-3cb2eb5e0775'}]}\n"
     ]
    }
   ],
   "source": [
    "result1 = CLIENT.infer(\"mnist_train/000001.jpg\", model_id=\"numbers-2ewg8/4\")\n",
    "print(result1)"
   ]
  },
  {
   "cell_type": "code",
   "execution_count": 9,
   "id": "19569970",
   "metadata": {},
   "outputs": [
    {
     "name": "stdout",
     "output_type": "stream",
     "text": [
      "239.0 363.5 60.0 53.0 0.9192056655883789 5\n",
      "140.5 208.0 21.0 32.0 0.9185886383056641 8\n",
      "193.0 220.0 12.0 22.0 0.8616394996643066 8\n",
      "239.0 363.5 60.0 53.0 0.5959097743034363 4\n"
     ]
    }
   ],
   "source": [
    "import cv2\n",
    "img1 = cv2.imread('mnist_train/000001.jpg')\n",
    "\n",
    "for pred in result1['predictions']:\n",
    "    x = pred['x']\n",
    "    y = pred['y']\n",
    "    width = pred['width']\n",
    "    height = pred['height']\n",
    "    conf = pred['confidence']\n",
    "    obj_class = pred['class']\n",
    "    \n",
    "    x1, y1 = int(x-width/2), int(y-height/2)\n",
    "    x2, y2 = int(x+width/2), int(y+height/2)\n",
    "    cv2.rectangle(img1, (x1,y1), (x2, y2), (0,0,255), 2)\n",
    "    cv2.putText(img1, f'{obj_class} {conf:.4f}', (x1,y1), cv2.FONT_HERSHEY_PLAIN, 2, (0,0,255))\n",
    "    \n",
    "    print(x, y, width, height, conf, obj_class)\n",
    "\n",
    "# 결과 이미지 확인\n",
    "cv2.imshow(\"Detections\", img1)\n",
    "cv2.waitKey(0)\n",
    "cv2.destroyAllWindows()"
   ]
  },
  {
   "cell_type": "markdown",
   "id": "32337c34",
   "metadata": {},
   "source": [
    "# model 가져오기"
   ]
  },
  {
   "cell_type": "code",
   "execution_count": 13,
   "id": "e63bf8cf",
   "metadata": {},
   "outputs": [
    {
     "name": "stdout",
     "output_type": "stream",
     "text": [
      "loading Roboflow workspace...\n",
      "loading Roboflow project...\n"
     ]
    },
    {
     "data": {
      "text/plain": [
       "<roboflow.models.object_detection.ObjectDetectionModel at 0x1826283eec0>"
      ]
     },
     "execution_count": 13,
     "metadata": {},
     "output_type": "execute_result"
    }
   ],
   "source": [
    "from roboflow import Roboflow\n",
    "\n",
    "rf = Roboflow(api_key= api_key)\n",
    "project = rf.workspace().project('numbers-yt0h2')\n",
    "numbers_model = project.version(2).model\n",
    "numbers_model"
   ]
  },
  {
   "cell_type": "code",
   "execution_count": 17,
   "id": "9a07124a",
   "metadata": {},
   "outputs": [],
   "source": [
    "import cv2\n",
    "filename = 'mnist_train/000001.jpg'\n",
    "result = model.predict(filename, confidence=40, overlap=30)\n",
    "img= cv2.imread(filename)\n",
    "for pred in result:\n",
    "    x, y = pred['x'], pred['y']\n",
    "    width, height = pred['width'], pred['height']\n",
    "    conf= pred['confidence']\n",
    "    cls= pred['class']\n",
    "    x1, y1 = int(x-width/2), int(y-height/2)\n",
    "    x2, y2 = int(x+width/2), int(y+height/2)\n",
    "    \n",
    "    cv2.rectangle(img, (x1,y1), (x2,y2), (0,0,255), 2)\n",
    "    cv2.putText(img, f'{cls}{conf:.4f}', (x1,y1), cv2.FONT_HERSHEY_PLAIN, 2, (0,0,255))\n",
    "    \n",
    "cv2.imshow('image', img)\n",
    "cv2.waitKey()\n",
    "cv2.destroyAllWindows()"
   ]
  },
  {
   "cell_type": "code",
   "execution_count": null,
   "id": "2596a95d",
   "metadata": {},
   "outputs": [],
   "source": []
  }
 ],
 "metadata": {
  "kernelspec": {
   "display_name": "torch_cuda_yolo_env",
   "language": "python",
   "name": "python3"
  },
  "language_info": {
   "codemirror_mode": {
    "name": "ipython",
    "version": 3
   },
   "file_extension": ".py",
   "mimetype": "text/x-python",
   "name": "python",
   "nbconvert_exporter": "python",
   "pygments_lexer": "ipython3",
   "version": "3.10.18"
  }
 },
 "nbformat": 4,
 "nbformat_minor": 5
}
