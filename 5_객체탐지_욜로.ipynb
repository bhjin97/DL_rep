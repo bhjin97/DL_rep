{
 "cells": [
  {
   "cell_type": "markdown",
   "id": "4778fd53",
   "metadata": {},
   "source": [
    "# 객체탐지"
   ]
  },
  {
   "cell_type": "code",
   "execution_count": null,
   "id": "e81324f2",
   "metadata": {},
   "outputs": [
    {
     "name": "stdout",
     "output_type": "stream",
     "text": [
      "\u001b[KDownloading https://github.com/ultralytics/assets/releases/download/v8.3.0/yolov8n.pt to 'yolov8n.pt': 100% ━━━━━━━━━━━━ 6.2/6.2MB 16.7MB/s 0.4s0.1s\n"
     ]
    }
   ],
   "source": [
    "# YOLO 소환\n",
    "from ultralytics import YOLO\n",
    "model = YOLO(\"yolov8n.pt\")"
   ]
  },
  {
   "cell_type": "code",
   "execution_count": 3,
   "id": "8fcdfe2f",
   "metadata": {},
   "outputs": [
    {
     "name": "stdout",
     "output_type": "stream",
     "text": [
      "\n",
      "image 1/1 c:\\githome\\DL_rep\\rsp.jpg: 448x640 3 persons, 19.4ms\n",
      "Speed: 4.0ms preprocess, 19.4ms inference, 10.4ms postprocess per image at shape (1, 3, 448, 640)\n"
     ]
    },
    {
     "data": {
      "text/plain": [
       "[ultralytics.engine.results.Results object with attributes:\n",
       " \n",
       " boxes: ultralytics.engine.results.Boxes object\n",
       " keypoints: None\n",
       " masks: None\n",
       " names: {0: 'person', 1: 'bicycle', 2: 'car', 3: 'motorcycle', 4: 'airplane', 5: 'bus', 6: 'train', 7: 'truck', 8: 'boat', 9: 'traffic light', 10: 'fire hydrant', 11: 'stop sign', 12: 'parking meter', 13: 'bench', 14: 'bird', 15: 'cat', 16: 'dog', 17: 'horse', 18: 'sheep', 19: 'cow', 20: 'elephant', 21: 'bear', 22: 'zebra', 23: 'giraffe', 24: 'backpack', 25: 'umbrella', 26: 'handbag', 27: 'tie', 28: 'suitcase', 29: 'frisbee', 30: 'skis', 31: 'snowboard', 32: 'sports ball', 33: 'kite', 34: 'baseball bat', 35: 'baseball glove', 36: 'skateboard', 37: 'surfboard', 38: 'tennis racket', 39: 'bottle', 40: 'wine glass', 41: 'cup', 42: 'fork', 43: 'knife', 44: 'spoon', 45: 'bowl', 46: 'banana', 47: 'apple', 48: 'sandwich', 49: 'orange', 50: 'broccoli', 51: 'carrot', 52: 'hot dog', 53: 'pizza', 54: 'donut', 55: 'cake', 56: 'chair', 57: 'couch', 58: 'potted plant', 59: 'bed', 60: 'dining table', 61: 'toilet', 62: 'tv', 63: 'laptop', 64: 'mouse', 65: 'remote', 66: 'keyboard', 67: 'cell phone', 68: 'microwave', 69: 'oven', 70: 'toaster', 71: 'sink', 72: 'refrigerator', 73: 'book', 74: 'clock', 75: 'vase', 76: 'scissors', 77: 'teddy bear', 78: 'hair drier', 79: 'toothbrush'}\n",
       " obb: None\n",
       " orig_img: array([[[255, 255, 255],\n",
       "         [255, 255, 255],\n",
       "         [255, 255, 255],\n",
       "         ...,\n",
       "         [255, 255, 255],\n",
       "         [255, 255, 255],\n",
       "         [255, 255, 255]],\n",
       " \n",
       "        [[255, 255, 255],\n",
       "         [255, 255, 255],\n",
       "         [255, 255, 255],\n",
       "         ...,\n",
       "         [255, 255, 255],\n",
       "         [255, 255, 255],\n",
       "         [255, 255, 255]],\n",
       " \n",
       "        [[255, 255, 255],\n",
       "         [255, 255, 255],\n",
       "         [255, 255, 255],\n",
       "         ...,\n",
       "         [255, 255, 255],\n",
       "         [255, 255, 255],\n",
       "         [255, 255, 255]],\n",
       " \n",
       "        ...,\n",
       " \n",
       "        [[150, 159, 202],\n",
       "         [152, 161, 204],\n",
       "         [151, 160, 203],\n",
       "         ...,\n",
       "         [138, 155, 198],\n",
       "         [139, 156, 199],\n",
       "         [139, 156, 199]],\n",
       " \n",
       "        [[150, 159, 202],\n",
       "         [152, 161, 204],\n",
       "         [151, 160, 203],\n",
       "         ...,\n",
       "         [138, 155, 198],\n",
       "         [138, 155, 198],\n",
       "         [138, 155, 198]],\n",
       " \n",
       "        [[150, 159, 202],\n",
       "         [152, 161, 204],\n",
       "         [151, 160, 203],\n",
       "         ...,\n",
       "         [137, 154, 197],\n",
       "         [138, 155, 198],\n",
       "         [138, 155, 198]]], dtype=uint8)\n",
       " orig_shape: (341, 512)\n",
       " path: 'c:\\\\githome\\\\DL_rep\\\\rsp.jpg'\n",
       " probs: None\n",
       " save_dir: 'runs\\\\detect\\\\predict'\n",
       " speed: {'preprocess': 3.998100000899285, 'inference': 19.432400004006922, 'postprocess': 10.362700006226078}]"
      ]
     },
     "execution_count": 3,
     "metadata": {},
     "output_type": "execute_result"
    }
   ],
   "source": [
    "result = model('rsp.jpg')\n",
    "result"
   ]
  },
  {
   "cell_type": "code",
   "execution_count": 6,
   "id": "0bb465bf",
   "metadata": {},
   "outputs": [
    {
     "name": "stdout",
     "output_type": "stream",
     "text": [
      "\n",
      "image 1/1 c:\\githome\\DL_rep\\golden.jpg: 640x640 1 dog, 27.0ms\n",
      "Speed: 5.0ms preprocess, 27.0ms inference, 4.8ms postprocess per image at shape (1, 3, 640, 640)\n"
     ]
    },
    {
     "data": {
      "text/plain": [
       "tensor(0.6063, device='cuda:0')"
      ]
     },
     "execution_count": 6,
     "metadata": {},
     "output_type": "execute_result"
    }
   ],
   "source": [
    "# 바운딩박스, 라벨 출력\n",
    "result1 = model('golden.jpg')\n",
    "result1[0].boxes[0].conf[0]"
   ]
  },
  {
   "cell_type": "code",
   "execution_count": 8,
   "id": "573a99a4",
   "metadata": {},
   "outputs": [
    {
     "data": {
      "text/plain": [
       "array([[[154, 185, 206],\n",
       "        [154, 185, 206],\n",
       "        [154, 185, 206],\n",
       "        ...,\n",
       "        [ 69,  89, 107],\n",
       "        [ 69,  89, 107],\n",
       "        [ 69,  89, 107]],\n",
       "\n",
       "       [[154, 185, 206],\n",
       "        [154, 185, 206],\n",
       "        [154, 185, 206],\n",
       "        ...,\n",
       "        [ 70,  90, 108],\n",
       "        [ 70,  90, 108],\n",
       "        [ 70,  90, 108]],\n",
       "\n",
       "       [[154, 185, 206],\n",
       "        [154, 185, 206],\n",
       "        [154, 185, 206],\n",
       "        ...,\n",
       "        [ 69,  91, 109],\n",
       "        [ 69,  91, 109],\n",
       "        [ 69,  91, 109]],\n",
       "\n",
       "       ...,\n",
       "\n",
       "       [[132, 167, 193],\n",
       "        [132, 167, 193],\n",
       "        [134, 168, 197],\n",
       "        ...,\n",
       "        [158, 177, 192],\n",
       "        [158, 177, 192],\n",
       "        [158, 177, 192]],\n",
       "\n",
       "       [[132, 167, 193],\n",
       "        [132, 167, 193],\n",
       "        [134, 169, 195],\n",
       "        ...,\n",
       "        [161, 177, 193],\n",
       "        [161, 177, 193],\n",
       "        [161, 177, 193]],\n",
       "\n",
       "       [[132, 167, 193],\n",
       "        [132, 167, 193],\n",
       "        [134, 169, 195],\n",
       "        ...,\n",
       "        [161, 177, 193],\n",
       "        [161, 177, 193],\n",
       "        [161, 177, 193]]], dtype=uint8)"
      ]
     },
     "execution_count": 8,
     "metadata": {},
     "output_type": "execute_result"
    }
   ],
   "source": [
    "import cv2\n",
    "img = cv2.imread('golden.jpg')\n",
    "img"
   ]
  },
  {
   "cell_type": "code",
   "execution_count": null,
   "id": "6eb99921",
   "metadata": {},
   "outputs": [
    {
     "data": {
      "text/plain": [
       "True"
      ]
     },
     "execution_count": 9,
     "metadata": {},
     "output_type": "execute_result"
    }
   ],
   "source": [
    "# 탐지된 객체(boxes 리스트) 순회\n",
    "for box in result[0].boxes:\n",
    "    # 1) 클래스 ID (예: 0=사람, 1=자동차 ...)\n",
    "    class_id = box.cls[0]\n",
    "    \n",
    "    # 2) 클래스 이름: YOLO 모델이 가진 클래스 이름 딕셔너리에서 ID로 조회\n",
    "    class_name = model.names[class_id]\n",
    "    \n",
    "    # 3) 신뢰도 점수 (탐지 정확도), 텐서를 float으로 변환\n",
    "    conf = float(box.conf[0])\n",
    "    \n",
    "    # 4) 바운딩 박스 좌표 (x1, y1, x2, y2) → 이미지 내 영역\n",
    "    #    xyxy는 [좌상단 x, 좌상단 y, 우하단 x, 우하단 y] 형태\n",
    "    coords = box.xyxy[0].tolist()\n",
    "    x1, y1, x2, y2 = map(int, coords)\n",
    "    \n",
    "    # 5) OpenCV로 바운딩 박스 그리기\n",
    "    #    - (x1, y1): 좌상단 좌표\n",
    "    #    - (x2, y2): 우하단 좌표\n",
    "    #    - (0, 255, 0): 초록색\n",
    "    #    - 2: 선 두께\n",
    "    cv2.rectangle(img, (x1, y1), (x2, y2), (0, 255, 0), 2)\n",
    "    \n",
    "    # 6) 바운딩 박스 위에 클래스명 + 신뢰도 점수 텍스트 표시\n",
    "    #    - f-string: '클래스명0.9876' 같은 포맷\n",
    "    #    - (x1, y1-10): 글자 시작 위치 (박스 위쪽)\n",
    "    #    - 폰트: cv2.FONT_HERSHEY_PLAIN\n",
    "    #    - 글자 크기: 1\n",
    "    #    - 색상: 빨강 (0,0,255)\n",
    "    cv2.putText(img,\n",
    "                f'{class_name} {conf:.4f}',\n",
    "                (x1, y1 - 10),\n",
    "                cv2.FONT_HERSHEY_PLAIN,\n",
    "                1,\n",
    "                (0, 0, 255))\n",
    "    \n",
    "# end for\n",
    "cv2.imshow('yolov8 object detection', img)\n",
    "cv2.waitKey(0)\n",
    "cv2.destroyAllWindows()\n",
    "cv2.imwrite('detect_result.jpg', img)"
   ]
  },
  {
   "cell_type": "markdown",
   "id": "e3fa6a54",
   "metadata": {},
   "source": [
    "# segmantation"
   ]
  },
  {
   "cell_type": "code",
   "execution_count": 17,
   "id": "cadc0ddb",
   "metadata": {},
   "outputs": [
    {
     "name": "stdout",
     "output_type": "stream",
     "text": [
      "\n",
      "image 1/1 c:\\githome\\DL_rep\\bus.jpg: 384x640 7 persons, 1 bus, 43.1ms\n",
      "Speed: 2.5ms preprocess, 43.1ms inference, 12.7ms postprocess per image at shape (1, 3, 384, 640)\n"
     ]
    }
   ],
   "source": [
    "from ultralytics import YOLO\n",
    "model = YOLO(\"yolov8n-seg.pt\")\n",
    "result = model('bus.jpg')\n",
    "result[0].show()"
   ]
  },
  {
   "cell_type": "code",
   "execution_count": null,
   "id": "26d6e99a",
   "metadata": {},
   "outputs": [
    {
     "data": {
      "text/plain": [
       "True"
      ]
     },
     "execution_count": 18,
     "metadata": {},
     "output_type": "execute_result"
    }
   ],
   "source": [
    "import numpy as np\n",
    "# 원본 이미지 읽기\n",
    "img_new = cv2.imread('bus.jpg')\n",
    "\n",
    "# 마스크를 덧칠할 레이어 (원본 복사본)\n",
    "overlay = img_new.copy()\n",
    "\n",
    "# 탐지된 객체(box)와 대응되는 마스크(mask)를 동시에 순회\n",
    "for box, mask in zip(result[0].boxes, result[0].masks):\n",
    "    # 마스크의 폴리곤 좌표를 int형으로 변환\n",
    "    polygon = mask.xy[0].astype(np.int32)\n",
    "    \n",
    "    # overlay 이미지에 폴리곤(마스크) 영역을 초록색으로 채움\n",
    "    cv2.fillPoly(overlay, [polygon], (0, 255, 0))\n",
    "    \n",
    "    # 클래스 ID → 이름으로 변환\n",
    "    class_id = box.cls[0]\n",
    "    class_name = model.names[class_id.item()]\n",
    "    \n",
    "    # 신뢰도(confidence) 점수 추출\n",
    "    conf = float(box.conf[0])\n",
    "    \n",
    "    # conf가 0.5 미만이면 해당 객체는 무시하고 다음으로 넘어감\n",
    "    if conf < 0.5:\n",
    "        continue\n",
    "\n",
    "    # 바운딩 박스 좌표 (좌상단 x1,y1 / 우하단 x2,y2)\n",
    "    coords = box.xyxy[0].tolist()\n",
    "    x1, y1, x2, y2 = map(int, coords)\n",
    "    \n",
    "    # 원본 이미지에 바운딩 박스 그리기 (초록색, 두께 2)\n",
    "    cv2.rectangle(img_new, (x1, y1), (x2, y2), (0, 255, 0), 2)\n",
    "    \n",
    "    # 바운딩 박스 위쪽에 클래스명 + 신뢰도 텍스트 표시\n",
    "    cv2.putText(img_new,\n",
    "                f'{class_name} {conf:.4f}',   # 표시할 문자열\n",
    "                (x1, y1 - 10),                # 텍스트 시작 좌표\n",
    "                cv2.FONT_HERSHEY_PLAIN,       # 폰트\n",
    "                1,                            # 글자 크기\n",
    "                (0, 0, 255),                  # 글자 색상(빨강)\n",
    "                1)                            # 두께\n",
    "\n",
    "# overlay(마스크)와 원본(img_new)을 합성해서 최종 이미지 생성\n",
    "alpha = 0.5  # 투명도\n",
    "final_img = cv2.addWeighted(overlay, alpha, img_new, 1 - alpha, 0)\n",
    "\n",
    "# 결과 화면에 출력\n",
    "cv2.imshow('yolov8 object detection', final_img)\n",
    "cv2.waitKey(0)\n",
    "cv2.destroyAllWindows()\n",
    "\n",
    "# 결과 이미지를 파일로 저장\n",
    "cv2.imwrite('detect_result.jpg', final_img)\n"
   ]
  },
  {
   "cell_type": "markdown",
   "id": "dbcd3f09",
   "metadata": {},
   "source": [
    "# 분류"
   ]
  },
  {
   "cell_type": "code",
   "execution_count": 25,
   "id": "3c371332",
   "metadata": {},
   "outputs": [
    {
     "name": "stdout",
     "output_type": "stream",
     "text": [
      "\n",
      "image 1/1 c:\\githome\\DL_rep\\people2.jpg: 640x640 10 persons, 27.8ms\n",
      "Speed: 4.3ms preprocess, 27.8ms inference, 10.9ms postprocess per image at shape (1, 3, 640, 640)\n"
     ]
    },
    {
     "data": {
      "text/plain": [
       "True"
      ]
     },
     "execution_count": 25,
     "metadata": {},
     "output_type": "execute_result"
    }
   ],
   "source": [
    "pose_model = YOLO(\"yolov8n-pose.pt\")\n",
    "pose_result = pose_model('people2.jpg')\n",
    "img = cv2.imread('people2.jpg')\n",
    "kp = pose_result[0].keypoints\n",
    "\n",
    "for man_kp in kp:\n",
    "    for x,y in man_kp.xy[0]:\n",
    "        if x>0 and y>0:\n",
    "            cv2.circle(img, (int(x), int(y)), 3, (255,0,0), -1)\n",
    "            \n",
    "cv2.imshow('yolov8 pose detection', img)\n",
    "cv2.waitKey(0)\n",
    "cv2.destroyAllWindows()\n",
    "cv2.imwrite('pose_result.jpg', img)"
   ]
  },
  {
   "cell_type": "code",
   "execution_count": null,
   "id": "f1b4014d",
   "metadata": {},
   "outputs": [],
   "source": []
  },
  {
   "cell_type": "code",
   "execution_count": null,
   "id": "64196af2",
   "metadata": {},
   "outputs": [],
   "source": []
  }
 ],
 "metadata": {
  "kernelspec": {
   "display_name": "torch_cuda_yolo_env",
   "language": "python",
   "name": "python3"
  },
  "language_info": {
   "codemirror_mode": {
    "name": "ipython",
    "version": 3
   },
   "file_extension": ".py",
   "mimetype": "text/x-python",
   "name": "python",
   "nbconvert_exporter": "python",
   "pygments_lexer": "ipython3",
   "version": "3.10.18"
  }
 },
 "nbformat": 4,
 "nbformat_minor": 5
}
