{
 "cells": [
  {
   "cell_type": "markdown",
   "id": "a23ecbf3",
   "metadata": {},
   "source": [
    "# 단어의 임베딩\n",
    "- 빈도수 계산 : 빈도기반 -TF\n",
    "- TDM : matrix TF를 행렬로 만든 것 , 사전을 이용한 단순빈도\n",
    "- TF-IDF : TF*IDF\n",
    "- IDF : 역문서 빈도"
   ]
  },
  {
   "cell_type": "code",
   "execution_count": 1,
   "id": "60d9312b",
   "metadata": {},
   "outputs": [
    {
     "data": {
      "text/plain": [
       "['John',\n",
       " 'likes',\n",
       " 'to',\n",
       " 'watch',\n",
       " 'movies',\n",
       " 'Mary',\n",
       " 'likes',\n",
       " 'movies',\n",
       " 'too',\n",
       " 'Mary',\n",
       " 'also',\n",
       " 'likes',\n",
       " 'to',\n",
       " 'watch',\n",
       " 'football',\n",
       " 'games']"
      ]
     },
     "execution_count": 1,
     "metadata": {},
     "output_type": "execute_result"
    }
   ],
   "source": [
    "text = \"John likes to watch movies. Mary likes movies too. Mary also likes to watch football games.\"\n",
    "words = text.replace('.', '').split()\n",
    "words"
   ]
  },
  {
   "cell_type": "code",
   "execution_count": 2,
   "id": "5f2d3337",
   "metadata": {},
   "outputs": [
    {
     "name": "stdout",
     "output_type": "stream",
     "text": [
      "(array(['John', 'Mary', 'also', 'football', 'games', 'likes', 'movies',\n",
      "       'to', 'too', 'watch'], dtype='<U8'), array([1, 2, 1, 1, 1, 3, 2, 2, 1, 2]))\n"
     ]
    }
   ],
   "source": [
    "import numpy as np\n",
    "word_count = np.unique(words, return_counts=True)\n",
    "print(word_count)"
   ]
  },
  {
   "cell_type": "code",
   "execution_count": 3,
   "id": "b5da93b1",
   "metadata": {},
   "outputs": [
    {
     "data": {
      "text/plain": [
       "{np.str_('John'): np.int64(1),\n",
       " np.str_('Mary'): np.int64(2),\n",
       " np.str_('also'): np.int64(1),\n",
       " np.str_('football'): np.int64(1),\n",
       " np.str_('games'): np.int64(1),\n",
       " np.str_('likes'): np.int64(3),\n",
       " np.str_('movies'): np.int64(2),\n",
       " np.str_('to'): np.int64(2),\n",
       " np.str_('too'): np.int64(1),\n",
       " np.str_('watch'): np.int64(2)}"
      ]
     },
     "execution_count": 3,
     "metadata": {},
     "output_type": "execute_result"
    }
   ],
   "source": [
    "# 딕셔너리 TF 생성\n",
    "word_to_cnt = {}\n",
    "for word, cnt in zip(*word_count):\n",
    "    word_to_cnt[word] = cnt\n",
    "word_to_cnt"
   ]
  },
  {
   "cell_type": "code",
   "execution_count": 4,
   "id": "3fcebf57",
   "metadata": {},
   "outputs": [
    {
     "data": {
      "text/plain": [
       "np.int64(2)"
      ]
     },
     "execution_count": 4,
     "metadata": {},
     "output_type": "execute_result"
    }
   ],
   "source": [
    "word_to_cnt['movies']"
   ]
  },
  {
   "cell_type": "code",
   "execution_count": 5,
   "id": "626893d0",
   "metadata": {},
   "outputs": [],
   "source": [
    "# !pip install scikit-learn pandas"
   ]
  },
  {
   "cell_type": "markdown",
   "id": "23dd3a62",
   "metadata": {},
   "source": [
    "# TDM"
   ]
  },
  {
   "cell_type": "code",
   "execution_count": 6,
   "id": "96dad79b",
   "metadata": {},
   "outputs": [],
   "source": [
    "from sklearn.feature_extraction.text import CountVectorizer"
   ]
  },
  {
   "cell_type": "code",
   "execution_count": null,
   "id": "9ac0c7e0",
   "metadata": {},
   "outputs": [
    {
     "name": "stdout",
     "output_type": "stream",
     "text": [
      "[[0 0 0 1 2 1 2 1 1 1]\n",
      " [1 1 1 0 1 1 0 1 0 1]]\n",
      "{'john': 3, 'likes': 4, 'to': 7, 'watch': 9, 'movies': 6, 'mary': 5, 'too': 8, 'also': 0, 'football': 1, 'games': 2}\n"
     ]
    }
   ],
   "source": [
    "corpus = [\"John likes to watch movies. Mary likes movies too.\" ,\n",
    "          \"Mary also likes to watch football games.\"]\n",
    "\n",
    "vector = CountVectorizer()\n",
    "tdm_array = vector.fit_transform(corpus).toarray()\n",
    "tf_dic = vector.vocabulary_\n",
    "print(tdm_array)\n",
    "print(tf_dic)"
   ]
  },
  {
   "cell_type": "code",
   "execution_count": 10,
   "id": "76983eeb",
   "metadata": {},
   "outputs": [
    {
     "data": {
      "text/html": [
       "<div>\n",
       "<style scoped>\n",
       "    .dataframe tbody tr th:only-of-type {\n",
       "        vertical-align: middle;\n",
       "    }\n",
       "\n",
       "    .dataframe tbody tr th {\n",
       "        vertical-align: top;\n",
       "    }\n",
       "\n",
       "    .dataframe thead th {\n",
       "        text-align: right;\n",
       "    }\n",
       "</style>\n",
       "<table border=\"1\" class=\"dataframe\">\n",
       "  <thead>\n",
       "    <tr style=\"text-align: right;\">\n",
       "      <th></th>\n",
       "      <th>also</th>\n",
       "      <th>football</th>\n",
       "      <th>games</th>\n",
       "      <th>john</th>\n",
       "      <th>likes</th>\n",
       "      <th>mary</th>\n",
       "      <th>movies</th>\n",
       "      <th>to</th>\n",
       "      <th>too</th>\n",
       "      <th>watch</th>\n",
       "    </tr>\n",
       "  </thead>\n",
       "  <tbody>\n",
       "    <tr>\n",
       "      <th>0</th>\n",
       "      <td>0</td>\n",
       "      <td>0</td>\n",
       "      <td>0</td>\n",
       "      <td>1</td>\n",
       "      <td>2</td>\n",
       "      <td>1</td>\n",
       "      <td>2</td>\n",
       "      <td>1</td>\n",
       "      <td>1</td>\n",
       "      <td>1</td>\n",
       "    </tr>\n",
       "    <tr>\n",
       "      <th>1</th>\n",
       "      <td>1</td>\n",
       "      <td>1</td>\n",
       "      <td>1</td>\n",
       "      <td>0</td>\n",
       "      <td>1</td>\n",
       "      <td>1</td>\n",
       "      <td>0</td>\n",
       "      <td>1</td>\n",
       "      <td>0</td>\n",
       "      <td>1</td>\n",
       "    </tr>\n",
       "  </tbody>\n",
       "</table>\n",
       "</div>"
      ],
      "text/plain": [
       "   also  football  games  john  likes  mary  movies  to  too  watch\n",
       "0     0         0      0     1      2     1       2   1    1      1\n",
       "1     1         1      1     0      1     1       0   1    0      1"
      ]
     },
     "execution_count": 10,
     "metadata": {},
     "output_type": "execute_result"
    }
   ],
   "source": [
    "import pandas as pd\n",
    "tf_dic_sorted = dict(sorted(tf_dic.items(), key=lambda item: item[1]))\n",
    "# tf_dic_sorted\n",
    "df = pd.DataFrame(tdm_array, columns=tf_dic_sorted.keys())\n",
    "df"
   ]
  },
  {
   "cell_type": "markdown",
   "id": "b21bb666",
   "metadata": {},
   "source": [
    "# TD-IDF"
   ]
  },
  {
   "cell_type": "code",
   "execution_count": 12,
   "id": "d79e1372",
   "metadata": {},
   "outputs": [
    {
     "data": {
      "text/html": [
       "<div>\n",
       "<style scoped>\n",
       "    .dataframe tbody tr th:only-of-type {\n",
       "        vertical-align: middle;\n",
       "    }\n",
       "\n",
       "    .dataframe tbody tr th {\n",
       "        vertical-align: top;\n",
       "    }\n",
       "\n",
       "    .dataframe thead th {\n",
       "        text-align: right;\n",
       "    }\n",
       "</style>\n",
       "<table border=\"1\" class=\"dataframe\">\n",
       "  <thead>\n",
       "    <tr style=\"text-align: right;\">\n",
       "      <th></th>\n",
       "      <th>also</th>\n",
       "      <th>football</th>\n",
       "      <th>games</th>\n",
       "      <th>john</th>\n",
       "      <th>likes</th>\n",
       "      <th>mary</th>\n",
       "      <th>movies</th>\n",
       "      <th>to</th>\n",
       "      <th>too</th>\n",
       "      <th>watch</th>\n",
       "    </tr>\n",
       "  </thead>\n",
       "  <tbody>\n",
       "    <tr>\n",
       "      <th>0</th>\n",
       "      <td>0.000000</td>\n",
       "      <td>0.000000</td>\n",
       "      <td>0.000000</td>\n",
       "      <td>0.323699</td>\n",
       "      <td>0.460629</td>\n",
       "      <td>0.230315</td>\n",
       "      <td>0.647398</td>\n",
       "      <td>0.230315</td>\n",
       "      <td>0.323699</td>\n",
       "      <td>0.230315</td>\n",
       "    </tr>\n",
       "    <tr>\n",
       "      <th>1</th>\n",
       "      <td>0.446101</td>\n",
       "      <td>0.446101</td>\n",
       "      <td>0.446101</td>\n",
       "      <td>0.000000</td>\n",
       "      <td>0.317404</td>\n",
       "      <td>0.317404</td>\n",
       "      <td>0.000000</td>\n",
       "      <td>0.317404</td>\n",
       "      <td>0.000000</td>\n",
       "      <td>0.317404</td>\n",
       "    </tr>\n",
       "  </tbody>\n",
       "</table>\n",
       "</div>"
      ],
      "text/plain": [
       "       also  football     games      john     likes      mary    movies  \\\n",
       "0  0.000000  0.000000  0.000000  0.323699  0.460629  0.230315  0.647398   \n",
       "1  0.446101  0.446101  0.446101  0.000000  0.317404  0.317404  0.000000   \n",
       "\n",
       "         to       too     watch  \n",
       "0  0.230315  0.323699  0.230315  \n",
       "1  0.317404  0.000000  0.317404  "
      ]
     },
     "execution_count": 12,
     "metadata": {},
     "output_type": "execute_result"
    }
   ],
   "source": [
    "from sklearn.feature_extraction.text import TfidfVectorizer\n",
    "\n",
    "tfidf_vec = TfidfVectorizer()\n",
    "tfidf_array = tfidf_vec.fit_transform(corpus).toarray()\n",
    "tfidf_dic = tfidf_vec.vocabulary_\n",
    "tfidf_dic_sorted = dict(sorted(tfidf_dic.items(),\n",
    "                               key=lambda item: item[1]))\n",
    "\n",
    "tfidf_dtm = pd.DataFrame(tfidf_array,\n",
    "                         columns=tfidf_dic_sorted.keys())\n",
    "tfidf_dtm"
   ]
  },
  {
   "cell_type": "code",
   "execution_count": 13,
   "id": "aeaf5a98",
   "metadata": {},
   "outputs": [
    {
     "name": "stdout",
     "output_type": "stream",
     "text": [
      "Collecting gensim\n",
      "  Downloading gensim-4.3.3-cp310-cp310-manylinux_2_17_x86_64.manylinux2014_x86_64.whl.metadata (8.2 kB)\n",
      "Collecting numpy<2.0,>=1.18.5 (from gensim)\n",
      "  Downloading numpy-1.26.4-cp310-cp310-manylinux_2_17_x86_64.manylinux2014_x86_64.whl.metadata (61 kB)\n",
      "Collecting scipy<1.14.0,>=1.7.0 (from gensim)\n",
      "  Downloading scipy-1.13.1-cp310-cp310-manylinux_2_17_x86_64.manylinux2014_x86_64.whl.metadata (60 kB)\n",
      "Collecting smart-open>=1.8.1 (from gensim)\n",
      "  Downloading smart_open-7.3.0.post1-py3-none-any.whl.metadata (24 kB)\n",
      "Requirement already satisfied: wrapt in /home/devuser/miniconda3/envs/tf_cuda_env/lib/python3.10/site-packages (from smart-open>=1.8.1->gensim) (1.17.3)\n",
      "Downloading gensim-4.3.3-cp310-cp310-manylinux_2_17_x86_64.manylinux2014_x86_64.whl (26.5 MB)\n",
      "\u001b[2K   \u001b[90m━━━━━━━━━━━━━━━━━━━━━━━━━━━━━━━━━━━━━━━━\u001b[0m \u001b[32m26.5/26.5 MB\u001b[0m \u001b[31m7.4 MB/s\u001b[0m  \u001b[33m0:00:03\u001b[0mm0:00:01\u001b[0m00:01\u001b[0m\n",
      "\u001b[?25hDownloading numpy-1.26.4-cp310-cp310-manylinux_2_17_x86_64.manylinux2014_x86_64.whl (18.2 MB)\n",
      "\u001b[2K   \u001b[90m━━━━━━━━━━━━━━━━━━━━━━━━━━━━━━━━━━━━━━━━\u001b[0m \u001b[32m18.2/18.2 MB\u001b[0m \u001b[31m9.3 MB/s\u001b[0m  \u001b[33m0:00:01\u001b[0mm0:00:01\u001b[0m:00:01\u001b[0m\n",
      "\u001b[?25hDownloading scipy-1.13.1-cp310-cp310-manylinux_2_17_x86_64.manylinux2014_x86_64.whl (38.6 MB)\n",
      "\u001b[2K   \u001b[90m━━━━━━━━━━━━━━━━━━━━━━━━━━━━━━━━━━━━━━━━\u001b[0m \u001b[32m38.6/38.6 MB\u001b[0m \u001b[31m7.6 MB/s\u001b[0m  \u001b[33m0:00:05\u001b[0mm0:00:01\u001b[0m00:01\u001b[0mm\n",
      "\u001b[?25hDownloading smart_open-7.3.0.post1-py3-none-any.whl (61 kB)\n",
      "Installing collected packages: smart-open, numpy, scipy, gensim\n",
      "\u001b[2K  Attempting uninstall: numpy\n",
      "\u001b[2K    Found existing installation: numpy 2.2.6\n",
      "\u001b[2K    Uninstalling numpy-2.2.6:\n",
      "\u001b[2K      Successfully uninstalled numpy-2.2.6\n",
      "\u001b[2K  Attempting uninstall: scipy[0m\u001b[90m━━━━━━━━━━━━━━━━━━━━━━━━━━━━━\u001b[0m \u001b[32m1/4\u001b[0m [numpy]\n",
      "\u001b[2K    Found existing installation: scipy 1.15.3━━━━━━━━━━━━━━━━━\u001b[0m \u001b[32m1/4\u001b[0m [numpy]\n",
      "\u001b[2K    Uninstalling scipy-1.15.3:90m━━━━━━━━━━━━━━━━━━━━━━━━━━━━━\u001b[0m \u001b[32m1/4\u001b[0m [numpy]\n",
      "\u001b[2K      Successfully uninstalled scipy-1.15.3━━━━━━━━━━━━━━━━━━━\u001b[0m \u001b[32m1/4\u001b[0m [numpy]\n",
      "\u001b[2K   \u001b[90m━━━━━━━━━━━━━━━━━━━━━━━━━━━━━━━━━━━━━━━━\u001b[0m \u001b[32m4/4\u001b[0m [gensim]2m3/4\u001b[0m [gensim]\n",
      "\u001b[1A\u001b[2KSuccessfully installed gensim-4.3.3 numpy-1.26.4 scipy-1.13.1 smart-open-7.3.0.post1\n"
     ]
    }
   ],
   "source": [
    "!pip install --upgrade gensim"
   ]
  },
  {
   "cell_type": "code",
   "execution_count": null,
   "id": "696c94f8",
   "metadata": {},
   "outputs": [],
   "source": []
  }
 ],
 "metadata": {
  "kernelspec": {
   "display_name": "tf_cuda_env",
   "language": "python",
   "name": "python3"
  },
  "language_info": {
   "codemirror_mode": {
    "name": "ipython",
    "version": 3
   },
   "file_extension": ".py",
   "mimetype": "text/x-python",
   "name": "python",
   "nbconvert_exporter": "python",
   "pygments_lexer": "ipython3",
   "version": "3.10.18"
  }
 },
 "nbformat": 4,
 "nbformat_minor": 5
}
