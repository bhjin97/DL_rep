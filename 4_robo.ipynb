{
 "cells": [
  {
   "cell_type": "code",
   "execution_count": 1,
   "id": "9d85dbe7",
   "metadata": {},
   "outputs": [
    {
     "name": "stdout",
     "output_type": "stream",
     "text": [
      "torch: 2.6.0+cu124 cuda: 12.4 is_available: True\n"
     ]
    }
   ],
   "source": [
    "import torch\n",
    "print(\"torch:\", torch.__version__, \"cuda:\", torch.version.cuda, \"is_available:\", torch.cuda.is_available())"
   ]
  },
  {
   "cell_type": "code",
   "execution_count": 2,
   "id": "989381c8",
   "metadata": {},
   "outputs": [],
   "source": [
    "import os \n",
    "from dotenv import load_dotenv\n",
    "loaded = load_dotenv()\n",
    "api_key = os.getenv('ROBOFLOW_API_KEY')"
   ]
  },
  {
   "cell_type": "code",
   "execution_count": 3,
   "id": "ee9c7d67",
   "metadata": {},
   "outputs": [
    {
     "name": "stdout",
     "output_type": "stream",
     "text": [
      "{'inference_id': 'eba99b84-d7d4-4e6c-bf55-37d633d18648', 'time': 0.033444713999870146, 'image': {'width': 512, 'height': 341}, 'predictions': [{'x': 404.0, 'y': 233.5, 'width': 132.0, 'height': 151.0, 'confidence': 0.9074662923812866, 'class': 'Rock', 'class_id': 1, 'detection_id': '964ca6cd-d1d2-486d-afe3-fcfa62c4fe5c'}, {'x': 112.5, 'y': 223.0, 'width': 175.0, 'height': 210.0, 'confidence': 0.8111773729324341, 'class': 'Paper', 'class_id': 0, 'detection_id': 'fb5daf78-a6f9-4654-b1fa-92946b2c4d70'}]}\n"
     ]
    }
   ],
   "source": [
    "from inference_sdk import InferenceHTTPClient\n",
    "CLIENT = InferenceHTTPClient(\n",
    "    api_url=\"https://detect.roboflow.com\",\n",
    "    api_key=api_key\n",
    ")\n",
    "\n",
    "# 추론 실행\n",
    "result = CLIENT.infer(\"rsp.jpg\", model_id=\"rock-paper-scissors-sxsw/14\")\n",
    "print(result)\n"
   ]
  },
  {
   "cell_type": "code",
   "execution_count": 5,
   "id": "87f21c35",
   "metadata": {},
   "outputs": [
    {
     "name": "stdout",
     "output_type": "stream",
     "text": [
      "404.0 233.5 132.0 151.0 0.9074662923812866 Rock\n",
      "112.5 223.0 175.0 210.0 0.8111773729324341 Paper\n"
     ]
    }
   ],
   "source": [
    "for pred in result['predictions']:\n",
    "    x = pred['x']\n",
    "    y = pred['y']\n",
    "    width = pred['width']\n",
    "    height = pred['height']\n",
    "    conf = pred['confidence']\n",
    "    obj_class = pred['class']\n",
    "    print(x,y,width,height,conf,obj_class)"
   ]
  },
  {
   "cell_type": "code",
   "execution_count": null,
   "id": "2ffacfb6",
   "metadata": {},
   "outputs": [],
   "source": []
  }
 ],
 "metadata": {
  "kernelspec": {
   "display_name": "torch_cuda_yolo_env",
   "language": "python",
   "name": "python3"
  },
  "language_info": {
   "codemirror_mode": {
    "name": "ipython",
    "version": 3
   },
   "file_extension": ".py",
   "mimetype": "text/x-python",
   "name": "python",
   "nbconvert_exporter": "python",
   "pygments_lexer": "ipython3",
   "version": "3.10.18"
  }
 },
 "nbformat": 4,
 "nbformat_minor": 5
}
